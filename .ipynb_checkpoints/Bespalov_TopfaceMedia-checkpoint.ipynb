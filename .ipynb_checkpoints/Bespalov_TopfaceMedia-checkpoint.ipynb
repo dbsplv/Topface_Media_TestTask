{
 "cells": [
  {
   "attachments": {
    "topface%20media%20logo.png": {
     "image/png": "[encoded data removed]"
    }
   },
   "cell_type": "markdown",
   "id": "7dd867ff",
   "metadata": {},
   "source": [
    "# Тестовое задание в Topface Media\n",
    "\n",
    "***Беспалов Даниил***\n",
    "![topface%20media%20logo.png](attachment:topface%20media%20logo.png)"
   ]
  },
  {
   "cell_type": "markdown",
   "id": "8147e082",
   "metadata": {},
   "source": [
    "## 1 Вопросы\n",
    "1) Как хорошо Вы владеете Python? Оцените свой уровень по шкале от 0 до 10, где 0 -\n",
    "cовсем не знаю, 10 - владею в совершенстве.  \n",
    "**Ответ: 9/10**  \n",
    "2) Насколько хорошо Вы знаете продукт Microsoft Excel? Оцените свой уровень по  \n",
    "шкале от 0 до 10, где 0 - совсем не знаю, 10 - владею в совершенстве.  \n",
    "**Ответ: 6/10**"
   ]
  },
  {
   "cell_type": "code",
   "execution_count": 1,
   "id": "b0f4628f",
   "metadata": {},
   "outputs": [],
   "source": [
    "import pandas as pd\n",
    "import numpy as np\n",
    "import matplotlib.pyplot as plt\n",
    "import seaborn as sns\n",
    "import plotly.express as px \n",
    "from datetime import datetime"
   ]
  },
  {
   "cell_type": "markdown",
   "id": "be289731",
   "metadata": {},
   "source": [
    "## 2 Задачи на логику"
   ]
  },
  {
   "cell_type": "markdown",
   "id": "91567394",
   "metadata": {},
   "source": [
    "1) Рекламная кампания стартовала вчера с дневным бюджетом 40 $.   \n",
    "Половина бюджета была израсходована к полудню,   \n",
    "а 80% оставшегося бюджета было потрачено между полуднем и временем закрытия.   \n",
    "Сколько долларов не было потрачено?"
   ]
  },
  {
   "cell_type": "code",
   "execution_count": 2,
   "id": "274ade8b",
   "metadata": {},
   "outputs": [
    {
     "name": "stdout",
     "output_type": "stream",
     "text": [
      "осталось не потрачено:  4.0\n"
     ]
    }
   ],
   "source": [
    "S=40\n",
    "print('осталось не потрачено: ',S - (S*0.5 + S*0.5 * 0.8))"
   ]
  },
  {
   "cell_type": "markdown",
   "id": "b857f04b",
   "metadata": {},
   "source": [
    "----------------------------------------------------------------------------------------------------------------------------\n",
    "\n",
    "2) 5 идентичных рекламных кампаний работали 24 дня по 6 часов в день, потрачено  \n",
    "было 120 долларов. Сколько дней они работали бы на 216 долларов, если бы 9  \n",
    "одинаковых кампаний работали бы по 8 часов в день?  "
   ]
  },
  {
   "cell_type": "code",
   "execution_count": 3,
   "id": "3df28264",
   "metadata": {},
   "outputs": [
    {
     "name": "stdout",
     "output_type": "stream",
     "text": [
      "число дней, сколько они проработают:  18.0\n"
     ]
    }
   ],
   "source": [
    "h = ((120/5 )/ 24)/6 #цена одного часа одной компании\n",
    "\n",
    "print('число дней, сколько они проработают: ', 216 / (h*8 * 9))"
   ]
  },
  {
   "cell_type": "markdown",
   "id": "660d790d",
   "metadata": {},
   "source": [
    "----------------------------------------------------------------------------------------------------------------------------\n",
    "\n",
    "3) Дизайнеры создали 200 рекламных баннеров для двух рекламных кампаний.    \n",
    "80 из них не использовались ни в кампании №1, ни в кампании №2, \n",
    "60 использовались только в кампании №1.   \n",
    "И для каждого рекламного баннера, который использовался в обеих кампаниях,  \n",
    "приходится 3 баннера, которые использовались только в кампании №2.  \n",
    "Сколько баннеров было использовано в обеих рекламных кампаниях?"
   ]
  },
  {
   "cell_type": "markdown",
   "id": "c55ac6d8",
   "metadata": {},
   "source": [
    "Пусть  \n",
    "* $S_1$ - число рекламных баннеров, которые использовались только в компании 1\n",
    "* $S_2$ - число рекламных баннеров, которые использовались только в компании 2\n",
    "* $S_3$ - число число рекламных баннеров, которые использовалисьи в компании 1 и в компании 2  \n",
    "Составляем систему:  \n",
    "\\begin{equation*}\n",
    " \\begin{cases}\n",
    "   S_1 = 60\\\\\n",
    "   S_1+S_2+S_3=120\\\\\n",
    "   3S_3=S_2\n",
    " \\end{cases}\n",
    "\\end{equation*}\n",
    "\n",
    "Откуда получаем, что\n",
    "\n",
    "\\begin{equation*}\n",
    " \\begin{cases}\n",
    "   S_1 = 60\\\\\n",
    "   S_2=45\\\\\n",
    "   S_3=15\n",
    " \\end{cases}\n",
    "\\end{equation*}\n"
   ]
  },
  {
   "cell_type": "markdown",
   "id": "f33889a2",
   "metadata": {},
   "source": [
    "----------------------------------------------------------------------------------------------------------------------------\n",
    "\n",
    "4) Энн использует Instagram, но не Facebook, а Джон использует Youtube и Facebook.  \n",
    "Кейт использует Youtube, но не Instagram, а Том использует Facebook, но не  \n",
    "Youtube. Если каждый человек использует две из трех социальных сетей, у кого  \n",
    "предпочтения совпадают?"
   ]
  },
  {
   "cell_type": "markdown",
   "id": "3fd93896",
   "metadata": {},
   "source": [
    "Ответ: У Джона и Кейт. Они используют Youtube и Facebook  \n",
    "\n",
    "  \n",
    "  \n",
    "    "
   ]
  },
  {
   "cell_type": "markdown",
   "id": "d4e7c866",
   "metadata": {},
   "source": [
    "----------------------------------------------------------------------------------------------------------------------------\n",
    "5) Средний итоговый балл стажера по 4 модулям составляет 78 баллов.   \n",
    "Сколько баллов должен получить стажер за 5-й модуль, чтобы средний балл по всему  \n",
    "заданию составил 80?\n",
    "\n",
    "$$\\frac{S_1+S_2+S_3+S_4}{4}=78$$  \n",
    "Пусть $K=(S_1+S_2+S_3+S_4)=78*4$  \n",
    "Тогда\n",
    "\n",
    "$$\\frac{K+S_5}{5}=80,$$  \n",
    "откуда находим, что  \n",
    "$$S_5 = 88$$\n",
    "\n",
    "\n"
   ]
  },
  {
   "cell_type": "markdown",
   "id": "5b872daf",
   "metadata": {},
   "source": [
    "----------------------------------------------------------------------------------------------------------\n",
    "\n",
    "6) Заказанные в приложении товары доставляются на автомобиле.   \n",
    "Автомобиль проезжает 260 км со средней скоростью 80 км / ч.   \n",
    "На обратном пути машина движется со средней скоростью 100 км / ч.   \n",
    "Насколько быстрее был обратный путь?  \n",
    "Ответ указать в минутах."
   ]
  },
  {
   "cell_type": "code",
   "execution_count": 4,
   "id": "849da8b8",
   "metadata": {},
   "outputs": [
    {
     "name": "stdout",
     "output_type": "stream",
     "text": [
      "Обратный путь был быстрее на 39 минут\n"
     ]
    }
   ],
   "source": [
    "t1=260/80\n",
    "t2=260/100\n",
    "print('Обратный путь был быстрее на {} минут'.format(np.abs(round((t2-t1)*60))))"
   ]
  },
  {
   "cell_type": "markdown",
   "id": "cb6493bb",
   "metadata": {},
   "source": [
    "## 3 Техническое задание"
   ]
  },
  {
   "cell_type": "code",
   "execution_count": 5,
   "id": "2088c10a",
   "metadata": {},
   "outputs": [],
   "source": [
    "sns.set(font_scale=2,\n",
    "        style    ='whitegrid',\n",
    "        rc       ={'figure.figsize': (20,7)}\n",
    "       )"
   ]
  },
  {
   "cell_type": "markdown",
   "id": "f18c71ef",
   "metadata": {},
   "source": [
    "В файле «data.xlsx» представлены данные по поступлению денежных средств от  \n",
    "клиентов компании N за покупку ее услуг.  \n",
    "Имеющиеся поля:  \n",
    "• client_id - ID клиента;  \n",
    "• sum – сумма денежных средств;  \n",
    "• status – статус оплаты;  \n",
    "• sale – менеджер, заключивший сделку;  \n",
    "• new/current – статус сделки;   \n",
    "• document – наличие оригинала подписанного договора с клиентом;  \n",
    "• receiving_date – дата получения оригинала договора.  "
   ]
  },
  {
   "cell_type": "code",
   "execution_count": 6,
   "id": "71898071",
   "metadata": {},
   "outputs": [
    {
     "data": {
      "text/html": [
       "<div>\n",
       "<style scoped>\n",
       "    .dataframe tbody tr th:only-of-type {\n",
       "        vertical-align: middle;\n",
       "    }\n",
       "\n",
       "    .dataframe tbody tr th {\n",
       "        vertical-align: top;\n",
       "    }\n",
       "\n",
       "    .dataframe thead th {\n",
       "        text-align: right;\n",
       "    }\n",
       "</style>\n",
       "<table border=\"1\" class=\"dataframe\">\n",
       "  <thead>\n",
       "    <tr style=\"text-align: right;\">\n",
       "      <th></th>\n",
       "      <th>client_id</th>\n",
       "      <th>sum</th>\n",
       "      <th>status</th>\n",
       "      <th>sale</th>\n",
       "      <th>new/current</th>\n",
       "      <th>Unnamed: 5</th>\n",
       "      <th>document</th>\n",
       "      <th>receiving_date</th>\n",
       "    </tr>\n",
       "  </thead>\n",
       "  <tbody>\n",
       "    <tr>\n",
       "      <th>0</th>\n",
       "      <td>NaN</td>\n",
       "      <td>NaN</td>\n",
       "      <td>Май 2021</td>\n",
       "      <td>NaN</td>\n",
       "      <td>NaN</td>\n",
       "      <td>NaN</td>\n",
       "      <td>NaN</td>\n",
       "      <td>NaN</td>\n",
       "    </tr>\n",
       "    <tr>\n",
       "      <th>1</th>\n",
       "      <td>6.0</td>\n",
       "      <td>11693.7</td>\n",
       "      <td>ВНУТРЕННИЙ</td>\n",
       "      <td>-</td>\n",
       "      <td>-</td>\n",
       "      <td>NaN</td>\n",
       "      <td>-</td>\n",
       "      <td>-</td>\n",
       "    </tr>\n",
       "    <tr>\n",
       "      <th>2</th>\n",
       "      <td>14.0</td>\n",
       "      <td>5452.7</td>\n",
       "      <td>ОПЛАЧЕНО</td>\n",
       "      <td>Петрова</td>\n",
       "      <td>новая</td>\n",
       "      <td>NaN</td>\n",
       "      <td>оригинал</td>\n",
       "      <td>2021-07-26 00:00:00</td>\n",
       "    </tr>\n",
       "    <tr>\n",
       "      <th>3</th>\n",
       "      <td>15.0</td>\n",
       "      <td>13991.7</td>\n",
       "      <td>ОПЛАЧЕНО</td>\n",
       "      <td>Иванов</td>\n",
       "      <td>текущая</td>\n",
       "      <td>NaN</td>\n",
       "      <td>оригинал</td>\n",
       "      <td>2021-06-08 00:00:00</td>\n",
       "    </tr>\n",
       "    <tr>\n",
       "      <th>4</th>\n",
       "      <td>16.0</td>\n",
       "      <td>719.7</td>\n",
       "      <td>ОПЛАЧЕНО</td>\n",
       "      <td>Иванов</td>\n",
       "      <td>текущая</td>\n",
       "      <td>NaN</td>\n",
       "      <td>оригинал</td>\n",
       "      <td>2021-06-08 00:00:00</td>\n",
       "    </tr>\n",
       "  </tbody>\n",
       "</table>\n",
       "</div>"
      ],
      "text/plain": [
       "   client_id      sum      status     sale new/current  Unnamed: 5  document  \\\n",
       "0        NaN      NaN    Май 2021      NaN         NaN         NaN       NaN   \n",
       "1        6.0  11693.7  ВНУТРЕННИЙ        -           -         NaN         -   \n",
       "2       14.0   5452.7    ОПЛАЧЕНО  Петрова       новая         NaN  оригинал   \n",
       "3       15.0  13991.7    ОПЛАЧЕНО   Иванов     текущая         NaN  оригинал   \n",
       "4       16.0    719.7    ОПЛАЧЕНО   Иванов     текущая         NaN  оригинал   \n",
       "\n",
       "        receiving_date  \n",
       "0                  NaN  \n",
       "1                    -  \n",
       "2  2021-07-26 00:00:00  \n",
       "3  2021-06-08 00:00:00  \n",
       "4  2021-06-08 00:00:00  "
      ]
     },
     "execution_count": 6,
     "metadata": {},
     "output_type": "execute_result"
    }
   ],
   "source": [
    "data = pd.read_excel('data.xlsx')\n",
    "data.head()"
   ]
  },
  {
   "cell_type": "code",
   "execution_count": 7,
   "id": "d5da367c",
   "metadata": {},
   "outputs": [
    {
     "data": {
      "text/plain": [
       "client_id         float64\n",
       "sum               float64\n",
       "status             object\n",
       "sale               object\n",
       "new/current        object\n",
       "Unnamed: 5        float64\n",
       "document           object\n",
       "receiving_date     object\n",
       "dtype: object"
      ]
     },
     "execution_count": 7,
     "metadata": {},
     "output_type": "execute_result"
    }
   ],
   "source": [
    "data.dtypes"
   ]
  },
  {
   "cell_type": "code",
   "execution_count": 8,
   "id": "8550b6f0",
   "metadata": {},
   "outputs": [
    {
     "data": {
      "text/plain": [
       "client_id           6\n",
       "sum                 6\n",
       "status              0\n",
       "sale                6\n",
       "new/current         6\n",
       "Unnamed: 5        730\n",
       "document           21\n",
       "receiving_date    123\n",
       "dtype: int64"
      ]
     },
     "execution_count": 8,
     "metadata": {},
     "output_type": "execute_result"
    }
   ],
   "source": [
    "data.isna().sum()"
   ]
  },
  {
   "cell_type": "code",
   "execution_count": 9,
   "id": "709fb8d2",
   "metadata": {},
   "outputs": [
    {
     "data": {
      "text/plain": [
       "ОПЛАЧЕНО         622\n",
       "ПРОСРОЧЕНО        52\n",
       "В РАБОТЕ          44\n",
       "НА ПОДПИСАНИИ      5\n",
       "Май 2021           1\n",
       "ВНУТРЕННИЙ         1\n",
       "Июнь 2021          1\n",
       "Июль 2021          1\n",
       "Август 2021        1\n",
       "Сентябрь 2021      1\n",
       "Октябрь 2021       1\n",
       "Name: status, dtype: int64"
      ]
     },
     "execution_count": 9,
     "metadata": {},
     "output_type": "execute_result"
    }
   ],
   "source": [
    "data.status.value_counts()"
   ]
  },
  {
   "cell_type": "code",
   "execution_count": 10,
   "id": "b127b1c6",
   "metadata": {},
   "outputs": [],
   "source": [
    "def fix_date(vec):\n",
    "    ret=[]\n",
    "    for x in vec:\n",
    "        if isinstance(x, datetime):\n",
    "            ret.append(x)\n",
    "        else:\n",
    "            ret.append(np.nan)\n",
    "    return ret"
   ]
  },
  {
   "cell_type": "code",
   "execution_count": 11,
   "id": "707614d3",
   "metadata": {},
   "outputs": [],
   "source": [
    "def take_month(vec):\n",
    "    ret=[]\n",
    "    for x in vec:\n",
    "        try:\n",
    "            ret.append(x.month)\n",
    "        except:\n",
    "            ret.append(np.nan)\n",
    "    return ret"
   ]
  },
  {
   "cell_type": "code",
   "execution_count": 12,
   "id": "33b4d6da",
   "metadata": {},
   "outputs": [],
   "source": [
    "def take_year(vec):\n",
    "    ret=[]\n",
    "    for x in vec:\n",
    "        try:\n",
    "            ret.append(x.year)\n",
    "        except:\n",
    "            ret.append(np.nan)\n",
    "    return ret"
   ]
  },
  {
   "cell_type": "code",
   "execution_count": 13,
   "id": "565e537e",
   "metadata": {},
   "outputs": [],
   "source": [
    "data.receiving_date=fix_date(data.receiving_date)\n",
    "data['receiving_month'] = take_month(data.receiving_date)\n",
    "data['receiving_year'] = take_year(data.receiving_date)"
   ]
  },
  {
   "cell_type": "code",
   "execution_count": 14,
   "id": "81350550",
   "metadata": {},
   "outputs": [
    {
     "data": {
      "text/html": [
       "<div>\n",
       "<style scoped>\n",
       "    .dataframe tbody tr th:only-of-type {\n",
       "        vertical-align: middle;\n",
       "    }\n",
       "\n",
       "    .dataframe tbody tr th {\n",
       "        vertical-align: top;\n",
       "    }\n",
       "\n",
       "    .dataframe thead th {\n",
       "        text-align: right;\n",
       "    }\n",
       "</style>\n",
       "<table border=\"1\" class=\"dataframe\">\n",
       "  <thead>\n",
       "    <tr style=\"text-align: right;\">\n",
       "      <th></th>\n",
       "      <th>client_id</th>\n",
       "      <th>sum</th>\n",
       "      <th>status</th>\n",
       "      <th>sale</th>\n",
       "      <th>new/current</th>\n",
       "      <th>Unnamed: 5</th>\n",
       "      <th>document</th>\n",
       "      <th>receiving_date</th>\n",
       "      <th>receiving_month</th>\n",
       "      <th>receiving_year</th>\n",
       "    </tr>\n",
       "  </thead>\n",
       "  <tbody>\n",
       "    <tr>\n",
       "      <th>0</th>\n",
       "      <td>NaN</td>\n",
       "      <td>NaN</td>\n",
       "      <td>Май 2021</td>\n",
       "      <td>NaN</td>\n",
       "      <td>NaN</td>\n",
       "      <td>NaN</td>\n",
       "      <td>NaN</td>\n",
       "      <td>NaT</td>\n",
       "      <td>NaN</td>\n",
       "      <td>NaN</td>\n",
       "    </tr>\n",
       "    <tr>\n",
       "      <th>1</th>\n",
       "      <td>6.0</td>\n",
       "      <td>11693.7</td>\n",
       "      <td>ВНУТРЕННИЙ</td>\n",
       "      <td>-</td>\n",
       "      <td>-</td>\n",
       "      <td>NaN</td>\n",
       "      <td>-</td>\n",
       "      <td>NaT</td>\n",
       "      <td>NaN</td>\n",
       "      <td>NaN</td>\n",
       "    </tr>\n",
       "    <tr>\n",
       "      <th>2</th>\n",
       "      <td>14.0</td>\n",
       "      <td>5452.7</td>\n",
       "      <td>ОПЛАЧЕНО</td>\n",
       "      <td>Петрова</td>\n",
       "      <td>новая</td>\n",
       "      <td>NaN</td>\n",
       "      <td>оригинал</td>\n",
       "      <td>2021-07-26</td>\n",
       "      <td>7.0</td>\n",
       "      <td>2021.0</td>\n",
       "    </tr>\n",
       "    <tr>\n",
       "      <th>3</th>\n",
       "      <td>15.0</td>\n",
       "      <td>13991.7</td>\n",
       "      <td>ОПЛАЧЕНО</td>\n",
       "      <td>Иванов</td>\n",
       "      <td>текущая</td>\n",
       "      <td>NaN</td>\n",
       "      <td>оригинал</td>\n",
       "      <td>2021-06-08</td>\n",
       "      <td>6.0</td>\n",
       "      <td>2021.0</td>\n",
       "    </tr>\n",
       "    <tr>\n",
       "      <th>4</th>\n",
       "      <td>16.0</td>\n",
       "      <td>719.7</td>\n",
       "      <td>ОПЛАЧЕНО</td>\n",
       "      <td>Иванов</td>\n",
       "      <td>текущая</td>\n",
       "      <td>NaN</td>\n",
       "      <td>оригинал</td>\n",
       "      <td>2021-06-08</td>\n",
       "      <td>6.0</td>\n",
       "      <td>2021.0</td>\n",
       "    </tr>\n",
       "  </tbody>\n",
       "</table>\n",
       "</div>"
      ],
      "text/plain": [
       "   client_id      sum      status     sale new/current  Unnamed: 5  document  \\\n",
       "0        NaN      NaN    Май 2021      NaN         NaN         NaN       NaN   \n",
       "1        6.0  11693.7  ВНУТРЕННИЙ        -           -         NaN         -   \n",
       "2       14.0   5452.7    ОПЛАЧЕНО  Петрова       новая         NaN  оригинал   \n",
       "3       15.0  13991.7    ОПЛАЧЕНО   Иванов     текущая         NaN  оригинал   \n",
       "4       16.0    719.7    ОПЛАЧЕНО   Иванов     текущая         NaN  оригинал   \n",
       "\n",
       "  receiving_date  receiving_month  receiving_year  \n",
       "0            NaT              NaN             NaN  \n",
       "1            NaT              NaN             NaN  \n",
       "2     2021-07-26              7.0          2021.0  \n",
       "3     2021-06-08              6.0          2021.0  \n",
       "4     2021-06-08              6.0          2021.0  "
      ]
     },
     "execution_count": 14,
     "metadata": {},
     "output_type": "execute_result"
    }
   ],
   "source": [
    "data.head()"
   ]
  },
  {
   "cell_type": "code",
   "execution_count": null,
   "id": "c509dc63",
   "metadata": {},
   "outputs": [],
   "source": []
  },
  {
   "cell_type": "markdown",
   "id": "a805ee96",
   "metadata": {},
   "source": [
    "### Вопросы"
   ]
  },
  {
   "cell_type": "markdown",
   "id": "328faa0b",
   "metadata": {},
   "source": [
    "1) Вычислите общую выручку за июль 2021 по тем сделкам, приход денежных\n",
    "средств которых не просрочен."
   ]
  },
  {
   "cell_type": "code",
   "execution_count": 15,
   "id": "66fdbcfe",
   "metadata": {},
   "outputs": [
    {
     "data": {
      "text/plain": [
       "757830.7399999996"
      ]
     },
     "execution_count": 15,
     "metadata": {},
     "output_type": "execute_result"
    }
   ],
   "source": [
    "data.query('status != \"ПРОСРОЧЕНО\" & receiving_month==7 & receiving_year==2021')\\\n",
    "                ['sum'].sum()\n",
    "                        "
   ]
  },
  {
   "cell_type": "markdown",
   "id": "02d5fb9f",
   "metadata": {},
   "source": [
    "2) Как изменялась выручка компании за рассматриваемый период?  \n",
    "Проиллюстрируйте графиком."
   ]
  },
  {
   "cell_type": "code",
   "execution_count": 16,
   "id": "051f61de",
   "metadata": {},
   "outputs": [
    {
     "data": {
      "image/png": "[encoded data removed]",
      "text/plain": [
       "<Figure size 1440x504 with 1 Axes>"
      ]
     },
     "metadata": {},
     "output_type": "display_data"
    }
   ],
   "source": [
    "data_by_day = data.groupby('receiving_date')\\\n",
    "                    .agg({'sum':'sum'}).rolling(30).sum().plot()\n",
    "plt.title('Rolling sum by day')\n",
    "plt.show()"
   ]
  },
  {
   "cell_type": "code",
   "execution_count": 17,
   "id": "b553899f",
   "metadata": {},
   "outputs": [
    {
     "data": {
      "image/png": "[encoded data removed]",
      "text/plain": [
       "<Figure size 1440x504 with 1 Axes>"
      ]
     },
     "metadata": {},
     "output_type": "display_data"
    }
   ],
   "source": [
    "data_by_month = data.groupby('receiving_month')\\\n",
    "                    .agg({'sum':'sum'}).plot()\n",
    "plt.title('Sum by month')\n",
    "plt.show()"
   ]
  },
  {
   "cell_type": "markdown",
   "id": "80137c19",
   "metadata": {},
   "source": [
    "Видим, что общая динамика - положительная, c выходом на плато. Выручка растет.   \n",
    "На графике по месяцам просадка на 11 месяц, поскольку данные только до середины месяца."
   ]
  },
  {
   "cell_type": "markdown",
   "id": "f36a81aa",
   "metadata": {},
   "source": [
    "3) Кто из менеджеров привлек для компании больше всего денежных средств в\n",
    "сентябре 2021?"
   ]
  },
  {
   "cell_type": "code",
   "execution_count": 18,
   "id": "464ff05c",
   "metadata": {},
   "outputs": [
    {
     "data": {
      "text/html": [
       "<div>\n",
       "<style scoped>\n",
       "    .dataframe tbody tr th:only-of-type {\n",
       "        vertical-align: middle;\n",
       "    }\n",
       "\n",
       "    .dataframe tbody tr th {\n",
       "        vertical-align: top;\n",
       "    }\n",
       "\n",
       "    .dataframe thead th {\n",
       "        text-align: right;\n",
       "    }\n",
       "</style>\n",
       "<table border=\"1\" class=\"dataframe\">\n",
       "  <thead>\n",
       "    <tr style=\"text-align: right;\">\n",
       "      <th></th>\n",
       "      <th>sum</th>\n",
       "    </tr>\n",
       "    <tr>\n",
       "      <th>sale</th>\n",
       "      <th></th>\n",
       "    </tr>\n",
       "  </thead>\n",
       "  <tbody>\n",
       "    <tr>\n",
       "      <th>Петрова</th>\n",
       "      <td>219240.12</td>\n",
       "    </tr>\n",
       "    <tr>\n",
       "      <th>Иванов</th>\n",
       "      <td>165314.80</td>\n",
       "    </tr>\n",
       "    <tr>\n",
       "      <th>Смирнов</th>\n",
       "      <td>155245.90</td>\n",
       "    </tr>\n",
       "    <tr>\n",
       "      <th>Андреев</th>\n",
       "      <td>124714.55</td>\n",
       "    </tr>\n",
       "    <tr>\n",
       "      <th>Кузнецова</th>\n",
       "      <td>60230.20</td>\n",
       "    </tr>\n",
       "    <tr>\n",
       "      <th>Васильев</th>\n",
       "      <td>55667.50</td>\n",
       "    </tr>\n",
       "    <tr>\n",
       "      <th>Филимонова</th>\n",
       "      <td>45763.30</td>\n",
       "    </tr>\n",
       "    <tr>\n",
       "      <th>Соколов</th>\n",
       "      <td>44234.60</td>\n",
       "    </tr>\n",
       "  </tbody>\n",
       "</table>\n",
       "</div>"
      ],
      "text/plain": [
       "                  sum\n",
       "sale                 \n",
       "Петрова     219240.12\n",
       "Иванов      165314.80\n",
       "Смирнов     155245.90\n",
       "Андреев     124714.55\n",
       "Кузнецова    60230.20\n",
       "Васильев     55667.50\n",
       "Филимонова   45763.30\n",
       "Соколов      44234.60"
      ]
     },
     "execution_count": 18,
     "metadata": {},
     "output_type": "execute_result"
    }
   ],
   "source": [
    "sale_sum = data.query('receiving_month==9').groupby('sale')\\\n",
    "                    .agg({'sum':'sum'})\\\n",
    "                    .sort_values('sum', ascending=False)\n",
    "sale_sum"
   ]
  },
  {
   "cell_type": "code",
   "execution_count": 19,
   "id": "7c3dbd6f",
   "metadata": {},
   "outputs": [
    {
     "name": "stdout",
     "output_type": "stream",
     "text": [
      "Менеджер Петрова привлек(ла) больше всего денежных средств в сентябре 2021\n"
     ]
    }
   ],
   "source": [
    "print('Менеджер {} привлек(ла) больше всего денежных средств в сентябре 2021'.format(sale_sum.idxmax()[0]))"
   ]
  },
  {
   "cell_type": "code",
   "execution_count": 20,
   "id": "d9a396b0",
   "metadata": {},
   "outputs": [
    {
     "data": {
      "text/html": [
       "<div>\n",
       "<style scoped>\n",
       "    .dataframe tbody tr th:only-of-type {\n",
       "        vertical-align: middle;\n",
       "    }\n",
       "\n",
       "    .dataframe tbody tr th {\n",
       "        vertical-align: top;\n",
       "    }\n",
       "\n",
       "    .dataframe thead th {\n",
       "        text-align: right;\n",
       "    }\n",
       "</style>\n",
       "<table border=\"1\" class=\"dataframe\">\n",
       "  <thead>\n",
       "    <tr style=\"text-align: right;\">\n",
       "      <th></th>\n",
       "      <th>client_id</th>\n",
       "      <th>sum</th>\n",
       "      <th>status</th>\n",
       "      <th>sale</th>\n",
       "      <th>new/current</th>\n",
       "      <th>Unnamed: 5</th>\n",
       "      <th>document</th>\n",
       "      <th>receiving_date</th>\n",
       "      <th>receiving_month</th>\n",
       "      <th>receiving_year</th>\n",
       "    </tr>\n",
       "  </thead>\n",
       "  <tbody>\n",
       "    <tr>\n",
       "      <th>0</th>\n",
       "      <td>NaN</td>\n",
       "      <td>NaN</td>\n",
       "      <td>Май 2021</td>\n",
       "      <td>NaN</td>\n",
       "      <td>NaN</td>\n",
       "      <td>NaN</td>\n",
       "      <td>NaN</td>\n",
       "      <td>NaT</td>\n",
       "      <td>NaN</td>\n",
       "      <td>NaN</td>\n",
       "    </tr>\n",
       "    <tr>\n",
       "      <th>1</th>\n",
       "      <td>6.0</td>\n",
       "      <td>11693.7</td>\n",
       "      <td>ВНУТРЕННИЙ</td>\n",
       "      <td>-</td>\n",
       "      <td>-</td>\n",
       "      <td>NaN</td>\n",
       "      <td>-</td>\n",
       "      <td>NaT</td>\n",
       "      <td>NaN</td>\n",
       "      <td>NaN</td>\n",
       "    </tr>\n",
       "    <tr>\n",
       "      <th>2</th>\n",
       "      <td>14.0</td>\n",
       "      <td>5452.7</td>\n",
       "      <td>ОПЛАЧЕНО</td>\n",
       "      <td>Петрова</td>\n",
       "      <td>новая</td>\n",
       "      <td>NaN</td>\n",
       "      <td>оригинал</td>\n",
       "      <td>2021-07-26</td>\n",
       "      <td>7.0</td>\n",
       "      <td>2021.0</td>\n",
       "    </tr>\n",
       "    <tr>\n",
       "      <th>3</th>\n",
       "      <td>15.0</td>\n",
       "      <td>13991.7</td>\n",
       "      <td>ОПЛАЧЕНО</td>\n",
       "      <td>Иванов</td>\n",
       "      <td>текущая</td>\n",
       "      <td>NaN</td>\n",
       "      <td>оригинал</td>\n",
       "      <td>2021-06-08</td>\n",
       "      <td>6.0</td>\n",
       "      <td>2021.0</td>\n",
       "    </tr>\n",
       "    <tr>\n",
       "      <th>4</th>\n",
       "      <td>16.0</td>\n",
       "      <td>719.7</td>\n",
       "      <td>ОПЛАЧЕНО</td>\n",
       "      <td>Иванов</td>\n",
       "      <td>текущая</td>\n",
       "      <td>NaN</td>\n",
       "      <td>оригинал</td>\n",
       "      <td>2021-06-08</td>\n",
       "      <td>6.0</td>\n",
       "      <td>2021.0</td>\n",
       "    </tr>\n",
       "  </tbody>\n",
       "</table>\n",
       "</div>"
      ],
      "text/plain": [
       "   client_id      sum      status     sale new/current  Unnamed: 5  document  \\\n",
       "0        NaN      NaN    Май 2021      NaN         NaN         NaN       NaN   \n",
       "1        6.0  11693.7  ВНУТРЕННИЙ        -           -         NaN         -   \n",
       "2       14.0   5452.7    ОПЛАЧЕНО  Петрова       новая         NaN  оригинал   \n",
       "3       15.0  13991.7    ОПЛАЧЕНО   Иванов     текущая         NaN  оригинал   \n",
       "4       16.0    719.7    ОПЛАЧЕНО   Иванов     текущая         NaN  оригинал   \n",
       "\n",
       "  receiving_date  receiving_month  receiving_year  \n",
       "0            NaT              NaN             NaN  \n",
       "1            NaT              NaN             NaN  \n",
       "2     2021-07-26              7.0          2021.0  \n",
       "3     2021-06-08              6.0          2021.0  \n",
       "4     2021-06-08              6.0          2021.0  "
      ]
     },
     "execution_count": 20,
     "metadata": {},
     "output_type": "execute_result"
    }
   ],
   "source": [
    "data.head()"
   ]
  },
  {
   "cell_type": "markdown",
   "id": "f64632f5",
   "metadata": {},
   "source": [
    "4) Какой тип сделок (новая/текущая) был преобладающим в октябре 2021?"
   ]
  },
  {
   "cell_type": "code",
   "execution_count": 21,
   "id": "02de9756",
   "metadata": {},
   "outputs": [
    {
     "data": {
      "text/html": [
       "<div>\n",
       "<style scoped>\n",
       "    .dataframe tbody tr th:only-of-type {\n",
       "        vertical-align: middle;\n",
       "    }\n",
       "\n",
       "    .dataframe tbody tr th {\n",
       "        vertical-align: top;\n",
       "    }\n",
       "\n",
       "    .dataframe thead th {\n",
       "        text-align: right;\n",
       "    }\n",
       "</style>\n",
       "<table border=\"1\" class=\"dataframe\">\n",
       "  <thead>\n",
       "    <tr style=\"text-align: right;\">\n",
       "      <th></th>\n",
       "      <th>document</th>\n",
       "    </tr>\n",
       "    <tr>\n",
       "      <th>new/current</th>\n",
       "      <th></th>\n",
       "    </tr>\n",
       "  </thead>\n",
       "  <tbody>\n",
       "    <tr>\n",
       "      <th>новая</th>\n",
       "      <td>16</td>\n",
       "    </tr>\n",
       "    <tr>\n",
       "      <th>текущая</th>\n",
       "      <td>101</td>\n",
       "    </tr>\n",
       "  </tbody>\n",
       "</table>\n",
       "</div>"
      ],
      "text/plain": [
       "             document\n",
       "new/current          \n",
       "новая              16\n",
       "текущая           101"
      ]
     },
     "execution_count": 21,
     "metadata": {},
     "output_type": "execute_result"
    }
   ],
   "source": [
    "deal_type_count =data.query('receiving_month==10')\\\n",
    "            .groupby('new/current')\\\n",
    "            .agg({'document':'count'})\n",
    "deal_type_count"
   ]
  },
  {
   "cell_type": "code",
   "execution_count": 22,
   "id": "48c009d3",
   "metadata": {},
   "outputs": [
    {
     "name": "stdout",
     "output_type": "stream",
     "text": [
      "В октябре 2021 преобладали сделки с типом текущая\n"
     ]
    }
   ],
   "source": [
    "print('В октябре 2021 преобладали сделки с типом',deal_type_count.idxmax()[0])"
   ]
  },
  {
   "cell_type": "markdown",
   "id": "0c3db89a",
   "metadata": {},
   "source": [
    "5) Сколько оригиналов договора по майским сделкам было получено в июне 2021?"
   ]
  },
  {
   "cell_type": "code",
   "execution_count": 23,
   "id": "807360f4",
   "metadata": {},
   "outputs": [
    {
     "name": "stdout",
     "output_type": "stream",
     "text": [
      "Число оригиналов договора по майским сделкам было получено в июне 2021 равно 76\n"
     ]
    }
   ],
   "source": [
    "print('Число оригиналов договора по майским сделкам было получено в июне 2021 равно', data.query('document==\"оригинал\" & receiving_month ==6').shape[0])"
   ]
  },
  {
   "cell_type": "markdown",
   "id": "c131ffa9",
   "metadata": {},
   "source": [
    "### Задание"
   ]
  },
  {
   "cell_type": "markdown",
   "id": "faf6eab5",
   "metadata": {},
   "source": [
    "За каждую заключенную сделку менеджер получает бонус, который рассчитывается\n",
    "следующим образом.  \n",
    "1) За новые сделки менеджер получает 7 % от суммы, при условии, что статус\n",
    "оплаты «ОПЛАЧЕНО», а также имеется оригинал подписанного договора с\n",
    "клиентом (в рассматриваемом месяце).  \n",
    "2) За текущие сделки менеджер получает 5 % от суммы, если она больше 10 тыс., и\n",
    "3 % от суммы, если меньше.   \n",
    "При этом статус оплаты может быть любым, кроме\n",
    "«ПРОСРОЧЕНО», а также необходимо наличие оригинала подписанного\n",
    "договора с клиентом (в рассматриваемом месяце).  \n",
    "Бонусы по сделкам, оригиналы для которых приходят позже рассматриваемого\n",
    "месяца, считаются остатком на следующий период, который выплачивается по\n",
    "мере прихода оригиналов.  \n",
    "Вычислите остаток каждого из менеджеров на 01.07.2021."
   ]
  },
  {
   "cell_type": "code",
   "execution_count": 24,
   "id": "1cd5113f",
   "metadata": {},
   "outputs": [],
   "source": [
    "def get_bonus(row):\n",
    "    coef_max = 0.07\n",
    "    coef_middle =0.05\n",
    "    coef_low = 0.03\n",
    "    if ((row['new/current']=='новая') and(row.status == 'ОПЛАЧЕНО') and (row.receiving_date )):\n",
    "        return round(row['sum'] * coef_max,2)\n",
    "    \n",
    "    if(row['new/current']=='текущая'):\n",
    "        if(row.status != 'ПРОСРОЧЕНО'):\n",
    "            if(row['sum'] < 10000):\n",
    "                return round(row['sum']*coef_low,2)\n",
    "            else:\n",
    "                return round(row['sum']*coef_middle,2)\n",
    "    return 0"
   ]
  },
  {
   "cell_type": "code",
   "execution_count": 25,
   "id": "02f62605",
   "metadata": {},
   "outputs": [
    {
     "data": {
      "text/html": [
       "<div>\n",
       "<style scoped>\n",
       "    .dataframe tbody tr th:only-of-type {\n",
       "        vertical-align: middle;\n",
       "    }\n",
       "\n",
       "    .dataframe tbody tr th {\n",
       "        vertical-align: top;\n",
       "    }\n",
       "\n",
       "    .dataframe thead th {\n",
       "        text-align: right;\n",
       "    }\n",
       "</style>\n",
       "<table border=\"1\" class=\"dataframe\">\n",
       "  <thead>\n",
       "    <tr style=\"text-align: right;\">\n",
       "      <th></th>\n",
       "      <th>client_id</th>\n",
       "      <th>sum</th>\n",
       "      <th>status</th>\n",
       "      <th>sale</th>\n",
       "      <th>new/current</th>\n",
       "      <th>Unnamed: 5</th>\n",
       "      <th>document</th>\n",
       "      <th>receiving_date</th>\n",
       "      <th>receiving_month</th>\n",
       "      <th>receiving_year</th>\n",
       "      <th>sales_bonus</th>\n",
       "    </tr>\n",
       "  </thead>\n",
       "  <tbody>\n",
       "    <tr>\n",
       "      <th>0</th>\n",
       "      <td>NaN</td>\n",
       "      <td>NaN</td>\n",
       "      <td>Май 2021</td>\n",
       "      <td>NaN</td>\n",
       "      <td>NaN</td>\n",
       "      <td>NaN</td>\n",
       "      <td>NaN</td>\n",
       "      <td>NaT</td>\n",
       "      <td>NaN</td>\n",
       "      <td>NaN</td>\n",
       "      <td>0.00</td>\n",
       "    </tr>\n",
       "    <tr>\n",
       "      <th>1</th>\n",
       "      <td>6.0</td>\n",
       "      <td>11693.7</td>\n",
       "      <td>ВНУТРЕННИЙ</td>\n",
       "      <td>-</td>\n",
       "      <td>-</td>\n",
       "      <td>NaN</td>\n",
       "      <td>-</td>\n",
       "      <td>NaT</td>\n",
       "      <td>NaN</td>\n",
       "      <td>NaN</td>\n",
       "      <td>0.00</td>\n",
       "    </tr>\n",
       "    <tr>\n",
       "      <th>2</th>\n",
       "      <td>14.0</td>\n",
       "      <td>5452.7</td>\n",
       "      <td>ОПЛАЧЕНО</td>\n",
       "      <td>Петрова</td>\n",
       "      <td>новая</td>\n",
       "      <td>NaN</td>\n",
       "      <td>оригинал</td>\n",
       "      <td>2021-07-26</td>\n",
       "      <td>7.0</td>\n",
       "      <td>2021.0</td>\n",
       "      <td>381.69</td>\n",
       "    </tr>\n",
       "    <tr>\n",
       "      <th>3</th>\n",
       "      <td>15.0</td>\n",
       "      <td>13991.7</td>\n",
       "      <td>ОПЛАЧЕНО</td>\n",
       "      <td>Иванов</td>\n",
       "      <td>текущая</td>\n",
       "      <td>NaN</td>\n",
       "      <td>оригинал</td>\n",
       "      <td>2021-06-08</td>\n",
       "      <td>6.0</td>\n",
       "      <td>2021.0</td>\n",
       "      <td>699.59</td>\n",
       "    </tr>\n",
       "    <tr>\n",
       "      <th>4</th>\n",
       "      <td>16.0</td>\n",
       "      <td>719.7</td>\n",
       "      <td>ОПЛАЧЕНО</td>\n",
       "      <td>Иванов</td>\n",
       "      <td>текущая</td>\n",
       "      <td>NaN</td>\n",
       "      <td>оригинал</td>\n",
       "      <td>2021-06-08</td>\n",
       "      <td>6.0</td>\n",
       "      <td>2021.0</td>\n",
       "      <td>21.59</td>\n",
       "    </tr>\n",
       "    <tr>\n",
       "      <th>5</th>\n",
       "      <td>18.0</td>\n",
       "      <td>4253.7</td>\n",
       "      <td>ОПЛАЧЕНО</td>\n",
       "      <td>Иванов</td>\n",
       "      <td>текущая</td>\n",
       "      <td>NaN</td>\n",
       "      <td>оригинал</td>\n",
       "      <td>2021-07-07</td>\n",
       "      <td>7.0</td>\n",
       "      <td>2021.0</td>\n",
       "      <td>127.61</td>\n",
       "    </tr>\n",
       "    <tr>\n",
       "      <th>6</th>\n",
       "      <td>20.0</td>\n",
       "      <td>5796.7</td>\n",
       "      <td>ОПЛАЧЕНО</td>\n",
       "      <td>Кузнецова</td>\n",
       "      <td>текущая</td>\n",
       "      <td>NaN</td>\n",
       "      <td>оригинал</td>\n",
       "      <td>2021-07-15</td>\n",
       "      <td>7.0</td>\n",
       "      <td>2021.0</td>\n",
       "      <td>173.90</td>\n",
       "    </tr>\n",
       "    <tr>\n",
       "      <th>7</th>\n",
       "      <td>21.0</td>\n",
       "      <td>3613.7</td>\n",
       "      <td>ОПЛАЧЕНО</td>\n",
       "      <td>Кузнецова</td>\n",
       "      <td>текущая</td>\n",
       "      <td>NaN</td>\n",
       "      <td>оригинал</td>\n",
       "      <td>2021-10-13</td>\n",
       "      <td>10.0</td>\n",
       "      <td>2021.0</td>\n",
       "      <td>108.41</td>\n",
       "    </tr>\n",
       "    <tr>\n",
       "      <th>8</th>\n",
       "      <td>23.0</td>\n",
       "      <td>8511.7</td>\n",
       "      <td>ОПЛАЧЕНО</td>\n",
       "      <td>Андреев</td>\n",
       "      <td>текущая</td>\n",
       "      <td>NaN</td>\n",
       "      <td>оригинал</td>\n",
       "      <td>2021-06-08</td>\n",
       "      <td>6.0</td>\n",
       "      <td>2021.0</td>\n",
       "      <td>255.35</td>\n",
       "    </tr>\n",
       "    <tr>\n",
       "      <th>9</th>\n",
       "      <td>24.0</td>\n",
       "      <td>16347.7</td>\n",
       "      <td>ОПЛАЧЕНО</td>\n",
       "      <td>Андреев</td>\n",
       "      <td>новая</td>\n",
       "      <td>NaN</td>\n",
       "      <td>оригинал</td>\n",
       "      <td>2021-06-23</td>\n",
       "      <td>6.0</td>\n",
       "      <td>2021.0</td>\n",
       "      <td>1144.34</td>\n",
       "    </tr>\n",
       "  </tbody>\n",
       "</table>\n",
       "</div>"
      ],
      "text/plain": [
       "   client_id      sum      status       sale new/current  Unnamed: 5  \\\n",
       "0        NaN      NaN    Май 2021        NaN         NaN         NaN   \n",
       "1        6.0  11693.7  ВНУТРЕННИЙ          -           -         NaN   \n",
       "2       14.0   5452.7    ОПЛАЧЕНО    Петрова       новая         NaN   \n",
       "3       15.0  13991.7    ОПЛАЧЕНО     Иванов     текущая         NaN   \n",
       "4       16.0    719.7    ОПЛАЧЕНО     Иванов     текущая         NaN   \n",
       "5       18.0   4253.7    ОПЛАЧЕНО     Иванов     текущая         NaN   \n",
       "6       20.0   5796.7    ОПЛАЧЕНО  Кузнецова     текущая         NaN   \n",
       "7       21.0   3613.7    ОПЛАЧЕНО  Кузнецова     текущая         NaN   \n",
       "8       23.0   8511.7    ОПЛАЧЕНО    Андреев     текущая         NaN   \n",
       "9       24.0  16347.7    ОПЛАЧЕНО    Андреев       новая         NaN   \n",
       "\n",
       "   document receiving_date  receiving_month  receiving_year  sales_bonus  \n",
       "0       NaN            NaT              NaN             NaN         0.00  \n",
       "1         -            NaT              NaN             NaN         0.00  \n",
       "2  оригинал     2021-07-26              7.0          2021.0       381.69  \n",
       "3  оригинал     2021-06-08              6.0          2021.0       699.59  \n",
       "4  оригинал     2021-06-08              6.0          2021.0        21.59  \n",
       "5  оригинал     2021-07-07              7.0          2021.0       127.61  \n",
       "6  оригинал     2021-07-15              7.0          2021.0       173.90  \n",
       "7  оригинал     2021-10-13             10.0          2021.0       108.41  \n",
       "8  оригинал     2021-06-08              6.0          2021.0       255.35  \n",
       "9  оригинал     2021-06-23              6.0          2021.0      1144.34  "
      ]
     },
     "execution_count": 25,
     "metadata": {},
     "output_type": "execute_result"
    }
   ],
   "source": [
    "data['sales_bonus'] = data.apply(get_bonus,axis=1)\n",
    "data.head(10)"
   ]
  },
  {
   "cell_type": "code",
   "execution_count": 26,
   "id": "b754b4cb",
   "metadata": {},
   "outputs": [
    {
     "data": {
      "text/html": [
       "<div>\n",
       "<style scoped>\n",
       "    .dataframe tbody tr th:only-of-type {\n",
       "        vertical-align: middle;\n",
       "    }\n",
       "\n",
       "    .dataframe tbody tr th {\n",
       "        vertical-align: top;\n",
       "    }\n",
       "\n",
       "    .dataframe thead th {\n",
       "        text-align: right;\n",
       "    }\n",
       "</style>\n",
       "<table border=\"1\" class=\"dataframe\">\n",
       "  <thead>\n",
       "    <tr style=\"text-align: right;\">\n",
       "      <th></th>\n",
       "      <th>sales_bonus</th>\n",
       "    </tr>\n",
       "    <tr>\n",
       "      <th>sale</th>\n",
       "      <th></th>\n",
       "    </tr>\n",
       "  </thead>\n",
       "  <tbody>\n",
       "    <tr>\n",
       "      <th>Андреев</th>\n",
       "      <td>27164.33</td>\n",
       "    </tr>\n",
       "    <tr>\n",
       "      <th>Васильев</th>\n",
       "      <td>6934.62</td>\n",
       "    </tr>\n",
       "    <tr>\n",
       "      <th>Иванов</th>\n",
       "      <td>22041.63</td>\n",
       "    </tr>\n",
       "    <tr>\n",
       "      <th>Кузнецова</th>\n",
       "      <td>16108.75</td>\n",
       "    </tr>\n",
       "    <tr>\n",
       "      <th>Михайлов</th>\n",
       "      <td>607.07</td>\n",
       "    </tr>\n",
       "    <tr>\n",
       "      <th>Петрова</th>\n",
       "      <td>28282.41</td>\n",
       "    </tr>\n",
       "    <tr>\n",
       "      <th>Селиванов</th>\n",
       "      <td>7102.47</td>\n",
       "    </tr>\n",
       "    <tr>\n",
       "      <th>Смирнов</th>\n",
       "      <td>31089.65</td>\n",
       "    </tr>\n",
       "    <tr>\n",
       "      <th>Соколов</th>\n",
       "      <td>3730.70</td>\n",
       "    </tr>\n",
       "    <tr>\n",
       "      <th>Филимонова</th>\n",
       "      <td>11043.56</td>\n",
       "    </tr>\n",
       "  </tbody>\n",
       "</table>\n",
       "</div>"
      ],
      "text/plain": [
       "            sales_bonus\n",
       "sale                   \n",
       "Андреев        27164.33\n",
       "Васильев        6934.62\n",
       "Иванов         22041.63\n",
       "Кузнецова      16108.75\n",
       "Михайлов         607.07\n",
       "Петрова        28282.41\n",
       "Селиванов       7102.47\n",
       "Смирнов        31089.65\n",
       "Соколов         3730.70\n",
       "Филимонова     11043.56"
      ]
     },
     "execution_count": 26,
     "metadata": {},
     "output_type": "execute_result"
    }
   ],
   "source": [
    "data[data.receiving_date > '2021-07-01'].groupby('sale') \\\n",
    "        .agg({'sales_bonus' : 'sum'})"
   ]
  },
  {
   "cell_type": "code",
   "execution_count": null,
   "id": "32d3f788",
   "metadata": {},
   "outputs": [],
   "source": []
  },
  {
   "cell_type": "code",
   "execution_count": null,
   "id": "f6f02ea8",
   "metadata": {},
   "outputs": [],
   "source": []
  },
  {
   "cell_type": "code",
   "execution_count": null,
   "id": "8afe6e09",
   "metadata": {},
   "outputs": [],
   "source": []
  }
 ],
 "metadata": {
  "kernelspec": {
   "display_name": "Python 3 (ipykernel)",
   "language": "python",
   "name": "python3"
  },
  "language_info": {
   "codemirror_mode": {
    "name": "ipython",
    "version": 3
   },
   "file_extension": ".py",
   "mimetype": "text/x-python",
   "name": "python",
   "nbconvert_exporter": "python",
   "pygments_lexer": "ipython3",
   "version": "3.9.7"
  }
 },
 "nbformat": 4,
 "nbformat_minor": 5
}
